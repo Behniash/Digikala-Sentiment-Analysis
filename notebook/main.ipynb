{
 "cells": [
  {
   "cell_type": "code",
   "execution_count": null,
   "id": "a22290a9",
   "metadata": {},
   "outputs": [],
   "source": [
    "import hazm\n",
    "import numpy as np\n",
    "import pandas as pd\n",
    "import seaborn as sns\n",
    "import matplotlib.pyplot as plt\n",
    "\n",
    "\n",
    "from hazm import word_tokenize\n",
    "from hazm import Stemmer\n",
    "from sklearn.feature_extraction.text import TfidfVectorizer\n",
    "from sklearn.preprocessing import LabelEncoder\n",
    "from imblearn.over_sampling import RandomOverSampler\n",
    "from sklearn.model_selection import train_test_split, StratifiedKFold, cross_val_score\n",
    "from sklearn.svm import SVC\n",
    "from sklearn.metrics import classification_report, confusion_matrix\n",
    "from sklearn.cluster import KMeans\n",
    "from sklearn.metrics import silhouette_score"
   ]
  },
  {
   "cell_type": "code",
   "execution_count": 32,
   "id": "f2a31d11",
   "metadata": {},
   "outputs": [],
   "source": [
    "sns.set_style('darkgrid')"
   ]
  },
  {
   "cell_type": "code",
   "execution_count": 2,
   "id": "05c9ec19",
   "metadata": {},
   "outputs": [],
   "source": [
    "data = pd.read_csv('digikala-comments.csv', nrows=10000) "
   ]
  },
  {
   "cell_type": "code",
   "execution_count": 74,
   "id": "3deda7c6",
   "metadata": {},
   "outputs": [
    {
     "data": {
      "text/html": [
       "<div>\n",
       "<style scoped>\n",
       "    .dataframe tbody tr th:only-of-type {\n",
       "        vertical-align: middle;\n",
       "    }\n",
       "\n",
       "    .dataframe tbody tr th {\n",
       "        vertical-align: top;\n",
       "    }\n",
       "\n",
       "    .dataframe thead th {\n",
       "        text-align: right;\n",
       "    }\n",
       "</style>\n",
       "<table border=\"1\" class=\"dataframe\">\n",
       "  <thead>\n",
       "    <tr style=\"text-align: right;\">\n",
       "      <th></th>\n",
       "      <th>id</th>\n",
       "      <th>title</th>\n",
       "      <th>body</th>\n",
       "      <th>created_at</th>\n",
       "      <th>rate</th>\n",
       "      <th>recommendation_status</th>\n",
       "      <th>is_buyer</th>\n",
       "      <th>product_id</th>\n",
       "      <th>advantages</th>\n",
       "      <th>disadvantages</th>\n",
       "      <th>likes</th>\n",
       "      <th>dislikes</th>\n",
       "      <th>seller_title</th>\n",
       "      <th>seller_code</th>\n",
       "      <th>true_to_size_rate</th>\n",
       "    </tr>\n",
       "  </thead>\n",
       "  <tbody>\n",
       "    <tr>\n",
       "      <th>0</th>\n",
       "      <td>53672599</td>\n",
       "      <td>پیشنهاد نمیشود</td>\n",
       "      <td>به درد نمیخوره</td>\n",
       "      <td>23 شهریور 1402</td>\n",
       "      <td>1.0</td>\n",
       "      <td>not_recommended</td>\n",
       "      <td>True</td>\n",
       "      <td>252058</td>\n",
       "      <td>NaN</td>\n",
       "      <td>NaN</td>\n",
       "      <td>0</td>\n",
       "      <td>0</td>\n",
       "      <td>دیجی‌کالا</td>\n",
       "      <td>5A52N</td>\n",
       "      <td>NaN</td>\n",
       "    </tr>\n",
       "    <tr>\n",
       "      <th>1</th>\n",
       "      <td>9897229</td>\n",
       "      <td>بسته بندی بد</td>\n",
       "      <td>می‌تونست به عنوان یه کالای فرهنگی بهتر بسته بن...</td>\n",
       "      <td>16 تیر 1399</td>\n",
       "      <td>0.0</td>\n",
       "      <td>recommended</td>\n",
       "      <td>True</td>\n",
       "      <td>252058</td>\n",
       "      <td>['تجربه جالبی بود برام ']</td>\n",
       "      <td>['بسته بندی جالبی نداشت']</td>\n",
       "      <td>1</td>\n",
       "      <td>0</td>\n",
       "      <td>دیجی‌کالا</td>\n",
       "      <td>5A52N</td>\n",
       "      <td>NaN</td>\n",
       "    </tr>\n",
       "    <tr>\n",
       "      <th>2</th>\n",
       "      <td>38074516</td>\n",
       "      <td>برس ریمل</td>\n",
       "      <td>بسته بندیش خوب بود\\r\\n کاربرد و کیفیتشم خیلی خ...</td>\n",
       "      <td>26 مرداد 1401</td>\n",
       "      <td>0.0</td>\n",
       "      <td>recommended</td>\n",
       "      <td>True</td>\n",
       "      <td>3331597</td>\n",
       "      <td>NaN</td>\n",
       "      <td>NaN</td>\n",
       "      <td>0</td>\n",
       "      <td>0</td>\n",
       "      <td>آرالیا بیوتی</td>\n",
       "      <td>ADM47</td>\n",
       "      <td>NaN</td>\n",
       "    </tr>\n",
       "    <tr>\n",
       "      <th>3</th>\n",
       "      <td>18628562</td>\n",
       "      <td>خوبه و خوشرنگ</td>\n",
       "      <td>به نظرم خوبه فقط یکم ظریفه. از رنگش خوشم اومد ...</td>\n",
       "      <td>28 اسفند 1399</td>\n",
       "      <td>0.0</td>\n",
       "      <td>recommended</td>\n",
       "      <td>True</td>\n",
       "      <td>3331329</td>\n",
       "      <td>NaN</td>\n",
       "      <td>NaN</td>\n",
       "      <td>0</td>\n",
       "      <td>0</td>\n",
       "      <td>اینجاست آ</td>\n",
       "      <td>9ZMCZ</td>\n",
       "      <td>NaN</td>\n",
       "    </tr>\n",
       "    <tr>\n",
       "      <th>4</th>\n",
       "      <td>53301258</td>\n",
       "      <td>برس رنگ مو</td>\n",
       "      <td>معمولیه اگه واسه خونه رنگ کردن شخصی میخواین او...</td>\n",
       "      <td>12 شهریور 1402</td>\n",
       "      <td>3.0</td>\n",
       "      <td>recommended</td>\n",
       "      <td>True</td>\n",
       "      <td>3255700</td>\n",
       "      <td>NaN</td>\n",
       "      <td>NaN</td>\n",
       "      <td>0</td>\n",
       "      <td>0</td>\n",
       "      <td>گالری آرایشی به سیما</td>\n",
       "      <td>CDWHA</td>\n",
       "      <td>NaN</td>\n",
       "    </tr>\n",
       "  </tbody>\n",
       "</table>\n",
       "</div>"
      ],
      "text/plain": [
       "         id           title  \\\n",
       "0  53672599  پیشنهاد نمیشود   \n",
       "1   9897229    بسته بندی بد   \n",
       "2  38074516        برس ریمل   \n",
       "3  18628562   خوبه و خوشرنگ   \n",
       "4  53301258      برس رنگ مو   \n",
       "\n",
       "                                                body      created_at  rate  \\\n",
       "0                                    به درد نمیخوره   23 شهریور 1402   1.0   \n",
       "1  می‌تونست به عنوان یه کالای فرهنگی بهتر بسته بن...     16 تیر 1399   0.0   \n",
       "2  بسته بندیش خوب بود\\r\\n کاربرد و کیفیتشم خیلی خ...   26 مرداد 1401   0.0   \n",
       "3  به نظرم خوبه فقط یکم ظریفه. از رنگش خوشم اومد ...   28 اسفند 1399   0.0   \n",
       "4  معمولیه اگه واسه خونه رنگ کردن شخصی میخواین او...  12 شهریور 1402   3.0   \n",
       "\n",
       "  recommendation_status  is_buyer  product_id                 advantages  \\\n",
       "0       not_recommended      True      252058                        NaN   \n",
       "1           recommended      True      252058  ['تجربه جالبی بود برام ']   \n",
       "2           recommended      True     3331597                        NaN   \n",
       "3           recommended      True     3331329                        NaN   \n",
       "4           recommended      True     3255700                        NaN   \n",
       "\n",
       "               disadvantages  likes  dislikes          seller_title  \\\n",
       "0                        NaN      0         0             دیجی‌کالا   \n",
       "1  ['بسته بندی جالبی نداشت']      1         0             دیجی‌کالا   \n",
       "2                        NaN      0         0          آرالیا بیوتی   \n",
       "3                        NaN      0         0            اینجاست آ    \n",
       "4                        NaN      0         0  گالری آرایشی به سیما   \n",
       "\n",
       "  seller_code true_to_size_rate  \n",
       "0       5A52N               NaN  \n",
       "1       5A52N               NaN  \n",
       "2       ADM47               NaN  \n",
       "3       9ZMCZ               NaN  \n",
       "4       CDWHA               NaN  "
      ]
     },
     "execution_count": 74,
     "metadata": {},
     "output_type": "execute_result"
    }
   ],
   "source": [
    "data.head()"
   ]
  },
  {
   "cell_type": "code",
   "execution_count": 4,
   "id": "bd8a6e99",
   "metadata": {},
   "outputs": [
    {
     "data": {
      "text/plain": [
       "recommendation_status\n",
       "recommended        6811\n",
       "no_idea             978\n",
       "not_recommended     757\n",
       "Name: count, dtype: int64"
      ]
     },
     "execution_count": 4,
     "metadata": {},
     "output_type": "execute_result"
    }
   ],
   "source": [
    "data.recommendation_status.value_counts()"
   ]
  },
  {
   "cell_type": "code",
   "execution_count": 5,
   "id": "7821128a",
   "metadata": {},
   "outputs": [
    {
     "data": {
      "text/plain": [
       "title                    object\n",
       "body                     object\n",
       "recommendation_status    object\n",
       "dtype: object"
      ]
     },
     "execution_count": 5,
     "metadata": {},
     "output_type": "execute_result"
    }
   ],
   "source": [
    "data[['title', 'body', 'recommendation_status']].dtypes"
   ]
  },
  {
   "cell_type": "code",
   "execution_count": 6,
   "id": "666c8131",
   "metadata": {},
   "outputs": [
    {
     "data": {
      "text/plain": [
       "id                          0\n",
       "title                    4731\n",
       "body                        2\n",
       "created_at                  0\n",
       "rate                        0\n",
       "recommendation_status    1454\n",
       "is_buyer                    0\n",
       "product_id                  0\n",
       "advantages               8673\n",
       "disadvantages            9268\n",
       "likes                       0\n",
       "dislikes                    0\n",
       "seller_title              472\n",
       "seller_code               472\n",
       "true_to_size_rate        9944\n",
       "dtype: int64"
      ]
     },
     "execution_count": 6,
     "metadata": {},
     "output_type": "execute_result"
    }
   ],
   "source": [
    "data.isnull().sum()"
   ]
  },
  {
   "cell_type": "code",
   "execution_count": 7,
   "id": "8991e1b6",
   "metadata": {},
   "outputs": [],
   "source": [
    "data['title'] = data['title'].fillna('')\n",
    "data['body'] = data['body'].fillna('')\n",
    "data = data.dropna(subset=['recommendation_status'])"
   ]
  },
  {
   "cell_type": "code",
   "execution_count": 8,
   "id": "996faadf",
   "metadata": {},
   "outputs": [],
   "source": [
    "with open('stopwords.txt') as stopwords_file:\n",
    "    lines = stopwords_file.readlines()\n",
    "    stop_words = []\n",
    "    for line in lines:\n",
    "        stop_words.append(line.replace('\\n', '').strip())"
   ]
  },
  {
   "cell_type": "code",
   "execution_count": null,
   "id": "c2a7bafe",
   "metadata": {},
   "outputs": [],
   "source": [
    "# stemmer = hazm.Stemmer()\n",
    "# datasets = pd.DataFrame(columns=('title_body', 'recommendation_status'))\n",
    "# for index, row in data.iterrows():\n",
    "#     title_body = row['title'] + ' ' + row['body']\n",
    "#     title_body_tokenized = word_tokenize(title_body)\n",
    "#     title_body_tokenized_filtered = []\n",
    "#     for s in title_body_tokenized:\n",
    "#         if s not in stop_words:\n",
    "#             title_body_tokenized_filtered.append(s)\n",
    "#     title_body_tokenized_filtered_stemmed = []\n",
    "#     for w in title_body_tokenized_filtered:\n",
    "#         title_body_tokenized_filtered_stemmed.append(stemmer.stem(w))\n",
    "#     datasets.loc[index] = {\n",
    "#         'title_body' : ' '.join(title_body_tokenized_filtered_stemmed),\n",
    "#         'recommendation_status' : row['recommendation_status'] \n",
    "#     }"
   ]
  },
  {
   "cell_type": "code",
   "execution_count": 11,
   "id": "a601394b",
   "metadata": {},
   "outputs": [
    {
     "data": {
      "text/html": [
       "<div>\n",
       "<style scoped>\n",
       "    .dataframe tbody tr th:only-of-type {\n",
       "        vertical-align: middle;\n",
       "    }\n",
       "\n",
       "    .dataframe tbody tr th {\n",
       "        vertical-align: top;\n",
       "    }\n",
       "\n",
       "    .dataframe thead th {\n",
       "        text-align: right;\n",
       "    }\n",
       "</style>\n",
       "<table border=\"1\" class=\"dataframe\">\n",
       "  <thead>\n",
       "    <tr style=\"text-align: right;\">\n",
       "      <th></th>\n",
       "      <th>title_body</th>\n",
       "      <th>recommendation_status</th>\n",
       "    </tr>\n",
       "  </thead>\n",
       "  <tbody>\n",
       "    <tr>\n",
       "      <th>0</th>\n",
       "      <td>پیشنهاد نمیشود درد نمیخوره</td>\n",
       "      <td>not_recommended</td>\n",
       "    </tr>\n",
       "    <tr>\n",
       "      <th>1</th>\n",
       "      <td>بسته می‌تونس کالا فرهنگ بسته بشه</td>\n",
       "      <td>recommended</td>\n",
       "    </tr>\n",
       "    <tr>\n",
       "      <th>2</th>\n",
       "      <td>برس ریمل بسته بند بود\\r کاربرد کیفیت خوبه روغن...</td>\n",
       "      <td>recommended</td>\n",
       "    </tr>\n",
       "    <tr>\n",
       "      <th>3</th>\n",
       "      <td>خوبه خوشرنگ نظر خوبه یک ظریفه رنگ خو اومد صابو...</td>\n",
       "      <td>recommended</td>\n",
       "    </tr>\n",
       "    <tr>\n",
       "      <th>4</th>\n",
       "      <td>برس رنگ مو معمولیه واسه خونه رنگ شخص میخواین ا...</td>\n",
       "      <td>recommended</td>\n",
       "    </tr>\n",
       "    <tr>\n",
       "      <th>...</th>\n",
       "      <td>...</td>\n",
       "      <td>...</td>\n",
       "    </tr>\n",
       "    <tr>\n",
       "      <th>8541</th>\n",
       "      <td>معمولیه</td>\n",
       "      <td>recommended</td>\n",
       "    </tr>\n",
       "    <tr>\n",
       "      <th>8542</th>\n",
       "      <td>عال عال</td>\n",
       "      <td>recommended</td>\n",
       "    </tr>\n",
       "    <tr>\n",
       "      <th>8543</th>\n",
       "      <td>نظر عال</td>\n",
       "      <td>recommended</td>\n",
       "    </tr>\n",
       "    <tr>\n",
       "      <th>8544</th>\n",
       "      <td>عال خرید شد راض</td>\n",
       "      <td>recommended</td>\n",
       "    </tr>\n",
       "    <tr>\n",
       "      <th>8545</th>\n",
       "      <td>مامان خرید راض موهاشو خشک</td>\n",
       "      <td>not_recommended</td>\n",
       "    </tr>\n",
       "  </tbody>\n",
       "</table>\n",
       "<p>8546 rows × 2 columns</p>\n",
       "</div>"
      ],
      "text/plain": [
       "                                             title_body recommendation_status\n",
       "0                            پیشنهاد نمیشود درد نمیخوره       not_recommended\n",
       "1                      بسته می‌تونس کالا فرهنگ بسته بشه           recommended\n",
       "2     برس ریمل بسته بند بود\\r کاربرد کیفیت خوبه روغن...           recommended\n",
       "3     خوبه خوشرنگ نظر خوبه یک ظریفه رنگ خو اومد صابو...           recommended\n",
       "4     برس رنگ مو معمولیه واسه خونه رنگ شخص میخواین ا...           recommended\n",
       "...                                                 ...                   ...\n",
       "8541                                            معمولیه           recommended\n",
       "8542                                            عال عال           recommended\n",
       "8543                                            نظر عال           recommended\n",
       "8544                                    عال خرید شد راض           recommended\n",
       "8545                          مامان خرید راض موهاشو خشک       not_recommended\n",
       "\n",
       "[8546 rows x 2 columns]"
      ]
     },
     "execution_count": 11,
     "metadata": {},
     "output_type": "execute_result"
    }
   ],
   "source": [
    "stemmer = hazm.Stemmer()\n",
    "processed_rows = []\n",
    "for index, row in data.iterrows():\n",
    "    title_body = row['title'] + ' ' + row['body']\n",
    "    tokens = [t for t in word_tokenize(title_body) if t not in stop_words]\n",
    "    stemmed_tokens = [stemmer.stem(w) for w in tokens]\n",
    "    processed_rows.append({\n",
    "        'title_body': ' '.join(stemmed_tokens),\n",
    "        'recommendation_status': row['recommendation_status']\n",
    "    })\n",
    "\n",
    "datasets = pd.DataFrame(processed_rows)\n",
    "datasets"
   ]
  },
  {
   "cell_type": "code",
   "execution_count": 12,
   "id": "a26df94b",
   "metadata": {},
   "outputs": [
    {
     "data": {
      "text/plain": [
       "title_body               0\n",
       "recommendation_status    0\n",
       "dtype: int64"
      ]
     },
     "execution_count": 12,
     "metadata": {},
     "output_type": "execute_result"
    }
   ],
   "source": [
    "datasets.isnull().sum()"
   ]
  },
  {
   "cell_type": "code",
   "execution_count": 13,
   "id": "c8d8f087",
   "metadata": {},
   "outputs": [
    {
     "data": {
      "text/plain": [
       "<8546x97636 sparse matrix of type '<class 'numpy.float64'>'\n",
       "\twith 170262 stored elements in Compressed Sparse Row format>"
      ]
     },
     "execution_count": 13,
     "metadata": {},
     "output_type": "execute_result"
    }
   ],
   "source": [
    "vectorizer = TfidfVectorizer(ngram_range=(1, 3))\n",
    "X = vectorizer.fit_transform(datasets.title_body)\n",
    "X"
   ]
  },
  {
   "cell_type": "code",
   "execution_count": 14,
   "id": "ab230daf",
   "metadata": {},
   "outputs": [
    {
     "data": {
      "text/plain": [
       "array([1, 2, 2, ..., 2, 2, 1])"
      ]
     },
     "execution_count": 14,
     "metadata": {},
     "output_type": "execute_result"
    }
   ],
   "source": [
    "le = LabelEncoder()\n",
    "y = le.fit_transform(datasets.recommendation_status)\n",
    "y"
   ]
  },
  {
   "cell_type": "code",
   "execution_count": 16,
   "id": "68f47e20",
   "metadata": {},
   "outputs": [
    {
     "name": "stdout",
     "output_type": "stream",
     "text": [
      "['no_idea' 'not_recommended' 'recommended']\n",
      "(array([0, 1, 2]), array([ 978,  757, 6811]))\n"
     ]
    }
   ],
   "source": [
    "print(le.classes_)\n",
    "print(np.unique(y, return_counts=True))"
   ]
  },
  {
   "cell_type": "code",
   "execution_count": 19,
   "id": "89aaa791",
   "metadata": {},
   "outputs": [
    {
     "data": {
      "text/plain": [
       "recommendation_status\n",
       "no_idea            0.114440\n",
       "not_recommended    0.088579\n",
       "recommended        0.796981\n",
       "Name: title_body, dtype: float64"
      ]
     },
     "execution_count": 19,
     "metadata": {},
     "output_type": "execute_result"
    }
   ],
   "source": [
    "datasets.groupby('recommendation_status')['title_body'].count() / len(datasets)"
   ]
  },
  {
   "cell_type": "code",
   "execution_count": 20,
   "id": "63cd2112",
   "metadata": {},
   "outputs": [
    {
     "data": {
      "text/plain": [
       "<Axes: xlabel='recommendation_status', ylabel='count'>"
      ]
     },
     "execution_count": 20,
     "metadata": {},
     "output_type": "execute_result"
    },
    {
     "data": {
      "image/png": "[encoded data removed]",
      "text/plain": [
       "<Figure size 640x480 with 1 Axes>"
      ]
     },
     "metadata": {},
     "output_type": "display_data"
    }
   ],
   "source": [
    "sns.set_style('darkgrid')\n",
    "sns.countplot(datasets, x='recommendation_status')"
   ]
  },
  {
   "cell_type": "code",
   "execution_count": 21,
   "id": "85ab7e13",
   "metadata": {},
   "outputs": [],
   "source": [
    "ros = RandomOverSampler(random_state=12)\n",
    "X_ros, y_ros = ros.fit_resample(X, y)"
   ]
  },
  {
   "cell_type": "code",
   "execution_count": 22,
   "id": "a99252e4",
   "metadata": {},
   "outputs": [
    {
     "name": "stdout",
     "output_type": "stream",
     "text": [
      "(array([0, 1, 2]), array([6811, 6811, 6811]))\n"
     ]
    }
   ],
   "source": [
    "print(np.unique(y_ros, return_counts=True))"
   ]
  },
  {
   "cell_type": "code",
   "execution_count": 23,
   "id": "641e8c8a",
   "metadata": {},
   "outputs": [],
   "source": [
    "X_train, X_test, y_train, y_test = train_test_split(X_ros, y_ros, random_state=32)"
   ]
  },
  {
   "cell_type": "code",
   "execution_count": 24,
   "id": "c976d432",
   "metadata": {},
   "outputs": [
    {
     "name": "stdout",
     "output_type": "stream",
     "text": [
      "(15324, 97636)\n",
      "(5109, 97636)\n",
      "(15324,)\n",
      "(5109,)\n"
     ]
    }
   ],
   "source": [
    "print(np.shape(X_train))\n",
    "print(np.shape(X_test))\n",
    "print(np.shape(y_train))\n",
    "print(np.shape(y_test))"
   ]
  },
  {
   "cell_type": "code",
   "execution_count": 25,
   "id": "269258e8",
   "metadata": {},
   "outputs": [
    {
     "data": {
      "text/html": [
       "<style>#sk-container-id-1 {\n",
       "  /* Definition of color scheme common for light and dark mode */\n",
       "  --sklearn-color-text: #000;\n",
       "  --sklearn-color-text-muted: #666;\n",
       "  --sklearn-color-line: gray;\n",
       "  /* Definition of color scheme for unfitted estimators */\n",
       "  --sklearn-color-unfitted-level-0: #fff5e6;\n",
       "  --sklearn-color-unfitted-level-1: #f6e4d2;\n",
       "  --sklearn-color-unfitted-level-2: #ffe0b3;\n",
       "  --sklearn-color-unfitted-level-3: chocolate;\n",
       "  /* Definition of color scheme for fitted estimators */\n",
       "  --sklearn-color-fitted-level-0: #f0f8ff;\n",
       "  --sklearn-color-fitted-level-1: #d4ebff;\n",
       "  --sklearn-color-fitted-level-2: #b3dbfd;\n",
       "  --sklearn-color-fitted-level-3: cornflowerblue;\n",
       "\n",
       "  /* Specific color for light theme */\n",
       "  --sklearn-color-text-on-default-background: var(--sg-text-color, var(--theme-code-foreground, var(--jp-content-font-color1, black)));\n",
       "  --sklearn-color-background: var(--sg-background-color, var(--theme-background, var(--jp-layout-color0, white)));\n",
       "  --sklearn-color-border-box: var(--sg-text-color, var(--theme-code-foreground, var(--jp-content-font-color1, black)));\n",
       "  --sklearn-color-icon: #696969;\n",
       "\n",
       "  @media (prefers-color-scheme: dark) {\n",
       "    /* Redefinition of color scheme for dark theme */\n",
       "    --sklearn-color-text-on-default-background: var(--sg-text-color, var(--theme-code-foreground, var(--jp-content-font-color1, white)));\n",
       "    --sklearn-color-background: var(--sg-background-color, var(--theme-background, var(--jp-layout-color0, #111)));\n",
       "    --sklearn-color-border-box: var(--sg-text-color, var(--theme-code-foreground, var(--jp-content-font-color1, white)));\n",
       "    --sklearn-color-icon: #878787;\n",
       "  }\n",
       "}\n",
       "\n",
       "#sk-container-id-1 {\n",
       "  color: var(--sklearn-color-text);\n",
       "}\n",
       "\n",
       "#sk-container-id-1 pre {\n",
       "  padding: 0;\n",
       "}\n",
       "\n",
       "#sk-container-id-1 input.sk-hidden--visually {\n",
       "  border: 0;\n",
       "  clip: rect(1px 1px 1px 1px);\n",
       "  clip: rect(1px, 1px, 1px, 1px);\n",
       "  height: 1px;\n",
       "  margin: -1px;\n",
       "  overflow: hidden;\n",
       "  padding: 0;\n",
       "  position: absolute;\n",
       "  width: 1px;\n",
       "}\n",
       "\n",
       "#sk-container-id-1 div.sk-dashed-wrapped {\n",
       "  border: 1px dashed var(--sklearn-color-line);\n",
       "  margin: 0 0.4em 0.5em 0.4em;\n",
       "  box-sizing: border-box;\n",
       "  padding-bottom: 0.4em;\n",
       "  background-color: var(--sklearn-color-background);\n",
       "}\n",
       "\n",
       "#sk-container-id-1 div.sk-container {\n",
       "  /* jupyter's `normalize.less` sets `[hidden] { display: none; }`\n",
       "     but bootstrap.min.css set `[hidden] { display: none !important; }`\n",
       "     so we also need the `!important` here to be able to override the\n",
       "     default hidden behavior on the sphinx rendered scikit-learn.org.\n",
       "     See: https://github.com/scikit-learn/scikit-learn/issues/21755 */\n",
       "  display: inline-block !important;\n",
       "  position: relative;\n",
       "}\n",
       "\n",
       "#sk-container-id-1 div.sk-text-repr-fallback {\n",
       "  display: none;\n",
       "}\n",
       "\n",
       "div.sk-parallel-item,\n",
       "div.sk-serial,\n",
       "div.sk-item {\n",
       "  /* draw centered vertical line to link estimators */\n",
       "  background-image: linear-gradient(var(--sklearn-color-text-on-default-background), var(--sklearn-color-text-on-default-background));\n",
       "  background-size: 2px 100%;\n",
       "  background-repeat: no-repeat;\n",
       "  background-position: center center;\n",
       "}\n",
       "\n",
       "/* Parallel-specific style estimator block */\n",
       "\n",
       "#sk-container-id-1 div.sk-parallel-item::after {\n",
       "  content: \"\";\n",
       "  width: 100%;\n",
       "  border-bottom: 2px solid var(--sklearn-color-text-on-default-background);\n",
       "  flex-grow: 1;\n",
       "}\n",
       "\n",
       "#sk-container-id-1 div.sk-parallel {\n",
       "  display: flex;\n",
       "  align-items: stretch;\n",
       "  justify-content: center;\n",
       "  background-color: var(--sklearn-color-background);\n",
       "  position: relative;\n",
       "}\n",
       "\n",
       "#sk-container-id-1 div.sk-parallel-item {\n",
       "  display: flex;\n",
       "  flex-direction: column;\n",
       "}\n",
       "\n",
       "#sk-container-id-1 div.sk-parallel-item:first-child::after {\n",
       "  align-self: flex-end;\n",
       "  width: 50%;\n",
       "}\n",
       "\n",
       "#sk-container-id-1 div.sk-parallel-item:last-child::after {\n",
       "  align-self: flex-start;\n",
       "  width: 50%;\n",
       "}\n",
       "\n",
       "#sk-container-id-1 div.sk-parallel-item:only-child::after {\n",
       "  width: 0;\n",
       "}\n",
       "\n",
       "/* Serial-specific style estimator block */\n",
       "\n",
       "#sk-container-id-1 div.sk-serial {\n",
       "  display: flex;\n",
       "  flex-direction: column;\n",
       "  align-items: center;\n",
       "  background-color: var(--sklearn-color-background);\n",
       "  padding-right: 1em;\n",
       "  padding-left: 1em;\n",
       "}\n",
       "\n",
       "\n",
       "/* Toggleable style: style used for estimator/Pipeline/ColumnTransformer box that is\n",
       "clickable and can be expanded/collapsed.\n",
       "- Pipeline and ColumnTransformer use this feature and define the default style\n",
       "- Estimators will overwrite some part of the style using the `sk-estimator` class\n",
       "*/\n",
       "\n",
       "/* Pipeline and ColumnTransformer style (default) */\n",
       "\n",
       "#sk-container-id-1 div.sk-toggleable {\n",
       "  /* Default theme specific background. It is overwritten whether we have a\n",
       "  specific estimator or a Pipeline/ColumnTransformer */\n",
       "  background-color: var(--sklearn-color-background);\n",
       "}\n",
       "\n",
       "/* Toggleable label */\n",
       "#sk-container-id-1 label.sk-toggleable__label {\n",
       "  cursor: pointer;\n",
       "  display: flex;\n",
       "  width: 100%;\n",
       "  margin-bottom: 0;\n",
       "  padding: 0.5em;\n",
       "  box-sizing: border-box;\n",
       "  text-align: center;\n",
       "  align-items: start;\n",
       "  justify-content: space-between;\n",
       "  gap: 0.5em;\n",
       "}\n",
       "\n",
       "#sk-container-id-1 label.sk-toggleable__label .caption {\n",
       "  font-size: 0.6rem;\n",
       "  font-weight: lighter;\n",
       "  color: var(--sklearn-color-text-muted);\n",
       "}\n",
       "\n",
       "#sk-container-id-1 label.sk-toggleable__label-arrow:before {\n",
       "  /* Arrow on the left of the label */\n",
       "  content: \"▸\";\n",
       "  float: left;\n",
       "  margin-right: 0.25em;\n",
       "  color: var(--sklearn-color-icon);\n",
       "}\n",
       "\n",
       "#sk-container-id-1 label.sk-toggleable__label-arrow:hover:before {\n",
       "  color: var(--sklearn-color-text);\n",
       "}\n",
       "\n",
       "/* Toggleable content - dropdown */\n",
       "\n",
       "#sk-container-id-1 div.sk-toggleable__content {\n",
       "  max-height: 0;\n",
       "  max-width: 0;\n",
       "  overflow: hidden;\n",
       "  text-align: left;\n",
       "  /* unfitted */\n",
       "  background-color: var(--sklearn-color-unfitted-level-0);\n",
       "}\n",
       "\n",
       "#sk-container-id-1 div.sk-toggleable__content.fitted {\n",
       "  /* fitted */\n",
       "  background-color: var(--sklearn-color-fitted-level-0);\n",
       "}\n",
       "\n",
       "#sk-container-id-1 div.sk-toggleable__content pre {\n",
       "  margin: 0.2em;\n",
       "  border-radius: 0.25em;\n",
       "  color: var(--sklearn-color-text);\n",
       "  /* unfitted */\n",
       "  background-color: var(--sklearn-color-unfitted-level-0);\n",
       "}\n",
       "\n",
       "#sk-container-id-1 div.sk-toggleable__content.fitted pre {\n",
       "  /* unfitted */\n",
       "  background-color: var(--sklearn-color-fitted-level-0);\n",
       "}\n",
       "\n",
       "#sk-container-id-1 input.sk-toggleable__control:checked~div.sk-toggleable__content {\n",
       "  /* Expand drop-down */\n",
       "  max-height: 200px;\n",
       "  max-width: 100%;\n",
       "  overflow: auto;\n",
       "}\n",
       "\n",
       "#sk-container-id-1 input.sk-toggleable__control:checked~label.sk-toggleable__label-arrow:before {\n",
       "  content: \"▾\";\n",
       "}\n",
       "\n",
       "/* Pipeline/ColumnTransformer-specific style */\n",
       "\n",
       "#sk-container-id-1 div.sk-label input.sk-toggleable__control:checked~label.sk-toggleable__label {\n",
       "  color: var(--sklearn-color-text);\n",
       "  background-color: var(--sklearn-color-unfitted-level-2);\n",
       "}\n",
       "\n",
       "#sk-container-id-1 div.sk-label.fitted input.sk-toggleable__control:checked~label.sk-toggleable__label {\n",
       "  background-color: var(--sklearn-color-fitted-level-2);\n",
       "}\n",
       "\n",
       "/* Estimator-specific style */\n",
       "\n",
       "/* Colorize estimator box */\n",
       "#sk-container-id-1 div.sk-estimator input.sk-toggleable__control:checked~label.sk-toggleable__label {\n",
       "  /* unfitted */\n",
       "  background-color: var(--sklearn-color-unfitted-level-2);\n",
       "}\n",
       "\n",
       "#sk-container-id-1 div.sk-estimator.fitted input.sk-toggleable__control:checked~label.sk-toggleable__label {\n",
       "  /* fitted */\n",
       "  background-color: var(--sklearn-color-fitted-level-2);\n",
       "}\n",
       "\n",
       "#sk-container-id-1 div.sk-label label.sk-toggleable__label,\n",
       "#sk-container-id-1 div.sk-label label {\n",
       "  /* The background is the default theme color */\n",
       "  color: var(--sklearn-color-text-on-default-background);\n",
       "}\n",
       "\n",
       "/* On hover, darken the color of the background */\n",
       "#sk-container-id-1 div.sk-label:hover label.sk-toggleable__label {\n",
       "  color: var(--sklearn-color-text);\n",
       "  background-color: var(--sklearn-color-unfitted-level-2);\n",
       "}\n",
       "\n",
       "/* Label box, darken color on hover, fitted */\n",
       "#sk-container-id-1 div.sk-label.fitted:hover label.sk-toggleable__label.fitted {\n",
       "  color: var(--sklearn-color-text);\n",
       "  background-color: var(--sklearn-color-fitted-level-2);\n",
       "}\n",
       "\n",
       "/* Estimator label */\n",
       "\n",
       "#sk-container-id-1 div.sk-label label {\n",
       "  font-family: monospace;\n",
       "  font-weight: bold;\n",
       "  display: inline-block;\n",
       "  line-height: 1.2em;\n",
       "}\n",
       "\n",
       "#sk-container-id-1 div.sk-label-container {\n",
       "  text-align: center;\n",
       "}\n",
       "\n",
       "/* Estimator-specific */\n",
       "#sk-container-id-1 div.sk-estimator {\n",
       "  font-family: monospace;\n",
       "  border: 1px dotted var(--sklearn-color-border-box);\n",
       "  border-radius: 0.25em;\n",
       "  box-sizing: border-box;\n",
       "  margin-bottom: 0.5em;\n",
       "  /* unfitted */\n",
       "  background-color: var(--sklearn-color-unfitted-level-0);\n",
       "}\n",
       "\n",
       "#sk-container-id-1 div.sk-estimator.fitted {\n",
       "  /* fitted */\n",
       "  background-color: var(--sklearn-color-fitted-level-0);\n",
       "}\n",
       "\n",
       "/* on hover */\n",
       "#sk-container-id-1 div.sk-estimator:hover {\n",
       "  /* unfitted */\n",
       "  background-color: var(--sklearn-color-unfitted-level-2);\n",
       "}\n",
       "\n",
       "#sk-container-id-1 div.sk-estimator.fitted:hover {\n",
       "  /* fitted */\n",
       "  background-color: var(--sklearn-color-fitted-level-2);\n",
       "}\n",
       "\n",
       "/* Specification for estimator info (e.g. \"i\" and \"?\") */\n",
       "\n",
       "/* Common style for \"i\" and \"?\" */\n",
       "\n",
       ".sk-estimator-doc-link,\n",
       "a:link.sk-estimator-doc-link,\n",
       "a:visited.sk-estimator-doc-link {\n",
       "  float: right;\n",
       "  font-size: smaller;\n",
       "  line-height: 1em;\n",
       "  font-family: monospace;\n",
       "  background-color: var(--sklearn-color-background);\n",
       "  border-radius: 1em;\n",
       "  height: 1em;\n",
       "  width: 1em;\n",
       "  text-decoration: none !important;\n",
       "  margin-left: 0.5em;\n",
       "  text-align: center;\n",
       "  /* unfitted */\n",
       "  border: var(--sklearn-color-unfitted-level-1) 1pt solid;\n",
       "  color: var(--sklearn-color-unfitted-level-1);\n",
       "}\n",
       "\n",
       ".sk-estimator-doc-link.fitted,\n",
       "a:link.sk-estimator-doc-link.fitted,\n",
       "a:visited.sk-estimator-doc-link.fitted {\n",
       "  /* fitted */\n",
       "  border: var(--sklearn-color-fitted-level-1) 1pt solid;\n",
       "  color: var(--sklearn-color-fitted-level-1);\n",
       "}\n",
       "\n",
       "/* On hover */\n",
       "div.sk-estimator:hover .sk-estimator-doc-link:hover,\n",
       ".sk-estimator-doc-link:hover,\n",
       "div.sk-label-container:hover .sk-estimator-doc-link:hover,\n",
       ".sk-estimator-doc-link:hover {\n",
       "  /* unfitted */\n",
       "  background-color: var(--sklearn-color-unfitted-level-3);\n",
       "  color: var(--sklearn-color-background);\n",
       "  text-decoration: none;\n",
       "}\n",
       "\n",
       "div.sk-estimator.fitted:hover .sk-estimator-doc-link.fitted:hover,\n",
       ".sk-estimator-doc-link.fitted:hover,\n",
       "div.sk-label-container:hover .sk-estimator-doc-link.fitted:hover,\n",
       ".sk-estimator-doc-link.fitted:hover {\n",
       "  /* fitted */\n",
       "  background-color: var(--sklearn-color-fitted-level-3);\n",
       "  color: var(--sklearn-color-background);\n",
       "  text-decoration: none;\n",
       "}\n",
       "\n",
       "/* Span, style for the box shown on hovering the info icon */\n",
       ".sk-estimator-doc-link span {\n",
       "  display: none;\n",
       "  z-index: 9999;\n",
       "  position: relative;\n",
       "  font-weight: normal;\n",
       "  right: .2ex;\n",
       "  padding: .5ex;\n",
       "  margin: .5ex;\n",
       "  width: min-content;\n",
       "  min-width: 20ex;\n",
       "  max-width: 50ex;\n",
       "  color: var(--sklearn-color-text);\n",
       "  box-shadow: 2pt 2pt 4pt #999;\n",
       "  /* unfitted */\n",
       "  background: var(--sklearn-color-unfitted-level-0);\n",
       "  border: .5pt solid var(--sklearn-color-unfitted-level-3);\n",
       "}\n",
       "\n",
       ".sk-estimator-doc-link.fitted span {\n",
       "  /* fitted */\n",
       "  background: var(--sklearn-color-fitted-level-0);\n",
       "  border: var(--sklearn-color-fitted-level-3);\n",
       "}\n",
       "\n",
       ".sk-estimator-doc-link:hover span {\n",
       "  display: block;\n",
       "}\n",
       "\n",
       "/* \"?\"-specific style due to the `<a>` HTML tag */\n",
       "\n",
       "#sk-container-id-1 a.estimator_doc_link {\n",
       "  float: right;\n",
       "  font-size: 1rem;\n",
       "  line-height: 1em;\n",
       "  font-family: monospace;\n",
       "  background-color: var(--sklearn-color-background);\n",
       "  border-radius: 1rem;\n",
       "  height: 1rem;\n",
       "  width: 1rem;\n",
       "  text-decoration: none;\n",
       "  /* unfitted */\n",
       "  color: var(--sklearn-color-unfitted-level-1);\n",
       "  border: var(--sklearn-color-unfitted-level-1) 1pt solid;\n",
       "}\n",
       "\n",
       "#sk-container-id-1 a.estimator_doc_link.fitted {\n",
       "  /* fitted */\n",
       "  border: var(--sklearn-color-fitted-level-1) 1pt solid;\n",
       "  color: var(--sklearn-color-fitted-level-1);\n",
       "}\n",
       "\n",
       "/* On hover */\n",
       "#sk-container-id-1 a.estimator_doc_link:hover {\n",
       "  /* unfitted */\n",
       "  background-color: var(--sklearn-color-unfitted-level-3);\n",
       "  color: var(--sklearn-color-background);\n",
       "  text-decoration: none;\n",
       "}\n",
       "\n",
       "#sk-container-id-1 a.estimator_doc_link.fitted:hover {\n",
       "  /* fitted */\n",
       "  background-color: var(--sklearn-color-fitted-level-3);\n",
       "}\n",
       "</style><div id=\"sk-container-id-1\" class=\"sk-top-container\"><div class=\"sk-text-repr-fallback\"><pre>SVC()</pre><b>In a Jupyter environment, please rerun this cell to show the HTML representation or trust the notebook. <br />On GitHub, the HTML representation is unable to render, please try loading this page with nbviewer.org.</b></div><div class=\"sk-container\" hidden><div class=\"sk-item\"><div class=\"sk-estimator fitted sk-toggleable\"><input class=\"sk-toggleable__control sk-hidden--visually\" id=\"sk-estimator-id-1\" type=\"checkbox\" checked><label for=\"sk-estimator-id-1\" class=\"sk-toggleable__label fitted sk-toggleable__label-arrow\"><div><div>SVC</div></div><div><a class=\"sk-estimator-doc-link fitted\" rel=\"noreferrer\" target=\"_blank\" href=\"https://scikit-learn.org/1.6/modules/generated/sklearn.svm.SVC.html\">?<span>Documentation for SVC</span></a><span class=\"sk-estimator-doc-link fitted\">i<span>Fitted</span></span></div></label><div class=\"sk-toggleable__content fitted\"><pre>SVC()</pre></div> </div></div></div></div>"
      ],
      "text/plain": [
       "SVC()"
      ]
     },
     "execution_count": 25,
     "metadata": {},
     "output_type": "execute_result"
    }
   ],
   "source": [
    "svmc = SVC()\n",
    "svmc.fit(X_train, y_train)"
   ]
  },
  {
   "cell_type": "code",
   "execution_count": 26,
   "id": "39a932ec",
   "metadata": {},
   "outputs": [
    {
     "data": {
      "text/plain": [
       "95.16539440203562"
      ]
     },
     "execution_count": 26,
     "metadata": {},
     "output_type": "execute_result"
    }
   ],
   "source": [
    "svmc.score(X_test, y_test) * 100"
   ]
  },
  {
   "cell_type": "code",
   "execution_count": 27,
   "id": "229fc02b",
   "metadata": {},
   "outputs": [],
   "source": [
    "y_pred = svmc.predict(X_test)"
   ]
  },
  {
   "cell_type": "code",
   "execution_count": 38,
   "id": "b141ecf5",
   "metadata": {},
   "outputs": [
    {
     "name": "stdout",
     "output_type": "stream",
     "text": [
      "                 precision    recall  f1-score   support\n",
      "\n",
      "        no_idea       0.92      0.95      0.94      1727\n",
      "not_recommended       0.98      0.97      0.97      1661\n",
      "    recommended       0.96      0.94      0.95      1721\n",
      "\n",
      "       accuracy                           0.95      5109\n",
      "      macro avg       0.95      0.95      0.95      5109\n",
      "   weighted avg       0.95      0.95      0.95      5109\n",
      "\n"
     ]
    }
   ],
   "source": [
    "print(classification_report(y_test, y_pred, target_names=le.classes_))"
   ]
  },
  {
   "cell_type": "code",
   "execution_count": 39,
   "id": "3fc1f912",
   "metadata": {},
   "outputs": [
    {
     "data": {
      "text/plain": [
       "<Axes: >"
      ]
     },
     "execution_count": 39,
     "metadata": {},
     "output_type": "execute_result"
    },
    {
     "data": {
      "image/png": "[encoded data removed]",
      "text/plain": [
       "<Figure size 640x480 with 2 Axes>"
      ]
     },
     "metadata": {},
     "output_type": "display_data"
    }
   ],
   "source": [
    "cm = confusion_matrix(y_pred, y_test)\n",
    "sns.heatmap(cm, annot=True, fmt='d', cmap='Blues', xticklabels=le.classes_, yticklabels=le.classes_)"
   ]
  },
  {
   "cell_type": "code",
   "execution_count": 51,
   "id": "5e1f2c99",
   "metadata": {},
   "outputs": [
    {
     "name": "stdout",
     "output_type": "stream",
     "text": [
      "comment: کیفیتش خیلی بد بود اصلا پیشنهاد نمیکنم => model prediction : not_recommended\n",
      "comment:  محصول به موقع رسید و بسته‌بندی عالی بود، راضی ام => model prediction : recommended\n",
      "comment: باتری بعد از دو روز خراب شد، اصلا نمی‌ارزه => model prediction : recommended\n",
      "comment: قیمت مناسبه و کیفیت هم خوب => model prediction : recommended\n",
      "comment: خیلی بد بود => model prediction : no_idea\n",
      "comment: مامان خرید راضی بود => model prediction : recommended\n"
     ]
    }
   ],
   "source": [
    "sample_comments = [\n",
    "    'کیفیتش خیلی بد بود اصلا پیشنهاد نمیکنم',\n",
    "    ' محصول به موقع رسید و بسته‌بندی عالی بود، راضی ام',\n",
    "    'باتری بعد از دو روز خراب شد، اصلا نمی‌ارزه',\n",
    "    'قیمت مناسبه و کیفیت هم خوب',\n",
    "    'خیلی بد بود',\n",
    "    'مامان خرید راضی بود'\n",
    "]\n",
    "\n",
    "processed_comments = []\n",
    "for comment in sample_comments:\n",
    "    tokens = word_tokenize(comment)\n",
    "    filtered_tokens = [stemmer.stem(w) for w in tokens if w not in stop_words]\n",
    "    processed_comments.append(\" \".join(filtered_tokens))\n",
    "\n",
    "X_new = vectorizer.transform(processed_comments)\n",
    "predictions = le.inverse_transform(svmc.predict(X_new))\n",
    "\n",
    "for text, pred in zip(sample_comments, predictions):\n",
    "    print(f\"comment: {text} => model prediction : {pred}\")\n"
   ]
  },
  {
   "cell_type": "code",
   "execution_count": 54,
   "id": "e971dc76",
   "metadata": {},
   "outputs": [
    {
     "data": {
      "image/png": "[encoded data removed]",
      "text/plain": [
       "<Figure size 640x480 with 1 Axes>"
      ]
     },
     "metadata": {},
     "output_type": "display_data"
    }
   ],
   "source": [
    "inertia = []\n",
    "K = range(2,11)\n",
    "for k in K:\n",
    "    km = KMeans(n_clusters=k, random_state=32)\n",
    "    km.fit(X)\n",
    "    inertia.append(km.inertia_)\n",
    "plt.plot(K, inertia, 'bx-')\n",
    "plt.xlabel(\"Number of clusters\")\n",
    "plt.ylabel(\"Inertia\")\n",
    "plt.show()"
   ]
  },
  {
   "cell_type": "code",
   "execution_count": 55,
   "id": "1c6c9eb1",
   "metadata": {},
   "outputs": [],
   "source": [
    "k = 5  \n",
    "kmeans = KMeans(n_clusters=k, random_state=32)\n",
    "clusters = kmeans.fit_predict(X)\n",
    "datasets['cluster'] = clusters\n"
   ]
  },
  {
   "cell_type": "code",
   "execution_count": 56,
   "id": "8097ec44",
   "metadata": {},
   "outputs": [
    {
     "name": "stdout",
     "output_type": "stream",
     "text": [
      "Cluster 0:\n",
      "['راض', 'خوبه راض', 'عال راض', 'خوبه', 'خرید راض', 'عال', 'خرید', 'راض خوبه', 'راض راض', 'راض خرید راض']\n",
      "Cluster 1:\n",
      "['خوبه', 'خوبه خوبه', 'خوبه خوبه خوبه', '۹۹ کتابا پرتقال', 'داره دوماهه صابون', 'داره دوتا پال', 'داره دور', 'داره دور قاعدگ', 'داره دوستتون', 'داره دوستتون سازگار']\n",
      "Cluster 2:\n",
      "['خوبه', 'عال', 'عالیه', 'بو', 'مو', 'راض', 'داره', 'شامپو', 'خوب', 'کتاب']\n",
      "Cluster 3:\n",
      "['کیف', 'مناسب', 'قیم', 'قیم مناسب', 'کیف مناسب', 'عال', 'نسب قیم', 'نسب', 'کیف عال', 'کیف خوب']\n",
      "Cluster 4:\n",
      "['عال', 'عال عال', 'عال عال عال', 'داره راض', 'داره راص', 'داره دور قاعدگ', 'داره دوستتون', 'داره راض باز', 'داره دوستتون سازگار', 'داره دوسه']\n"
     ]
    }
   ],
   "source": [
    "order_centroids = kmeans.cluster_centers_.argsort()[:, ::-1]\n",
    "terms = vectorizer.get_feature_names_out()\n",
    "\n",
    "for i in range(k):\n",
    "    print(f\"Cluster {i}:\")\n",
    "    print([terms[ind] for ind in order_centroids[i, :10]])"
   ]
  },
  {
   "cell_type": "code",
   "execution_count": null,
   "id": "d0940bfa",
   "metadata": {},
   "outputs": [],
   "source": [
    "positive_texts = datasets[datasets['recommendation_status']=='recommended']['title_body']\n",
    "negative_texts = datasets[datasets['recommendation_status']=='not_recommended']['title_body']\n",
    "neutral_texts  = datasets[datasets['recommendation_status']=='no_idea']['title_body']"
   ]
  }
 ],
 "metadata": {
  "kernelspec": {
   "display_name": "hazm-env",
   "language": "python",
   "name": "python3"
  },
  "language_info": {
   "codemirror_mode": {
    "name": "ipython",
    "version": 3
   },
   "file_extension": ".py",
   "mimetype": "text/x-python",
   "name": "python",
   "nbconvert_exporter": "python",
   "pygments_lexer": "ipython3",
   "version": "3.10.18"
  }
 },
 "nbformat": 4,
 "nbformat_minor": 5
}
